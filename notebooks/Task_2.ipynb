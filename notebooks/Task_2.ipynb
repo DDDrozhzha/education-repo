{
 "cells": [
  {
   "cell_type": "code",
   "execution_count": null,
   "id": "b767decc",
   "metadata": {},
   "outputs": [],
   "source": [
    "#Вывести лесенкой символ звёздочки по кол-ву строк, заданных пользователем:\n",
    "#запросить ввод у пользователя кол-ва строк, вывести звёздочки лесенкой."
   ]
  },
  {
   "cell_type": "code",
   "execution_count": null,
   "id": "c4780532",
   "metadata": {},
   "outputs": [],
   "source": [
    "num = int (input('Введите число = '))\n",
    "\n",
    "for i in range(num):\n",
    "    print ('*'*(i+1))"
   ]
  },
  {
   "cell_type": "code",
   "execution_count": null,
   "id": "39b143a8",
   "metadata": {},
   "outputs": [],
   "source": [
    "#Запросить у пользователя ввод числа. \n",
    "#Построить цикл от 0 до введённого числа (включительно) и для чётных чисел вывести то,\n",
    "#что они чётные, а для нечётных, что они нечётные."
   ]
  },
  {
   "cell_type": "code",
   "execution_count": null,
   "id": "f5e48a0d",
   "metadata": {},
   "outputs": [],
   "source": [
    "num = int (input('Введите число = '))\n",
    "\n",
    "for i in range(num+1):\n",
    "    if i%2==0:\n",
    "        print (f'{i} is even')\n",
    "    else:\n",
    "        print (f'{i} is odd')"
   ]
  },
  {
   "cell_type": "code",
   "execution_count": null,
   "id": "64f63bee",
   "metadata": {},
   "outputs": [],
   "source": [
    "#Вы получаете ввод числа от пользователя.\n",
    "#Построить цикл от 0 до введённого числа (включительно) \n",
    "#и посчитать сумму всех чисел, делимых без остатка на 3 или 5. Вывести на консоль это число."
   ]
  },
  {
   "cell_type": "code",
   "execution_count": null,
   "id": "a903c875",
   "metadata": {},
   "outputs": [],
   "source": [
    "num = int (input('Введите число = '))\n",
    "\n",
    "l = []\n",
    "\n",
    "for i in range (num+1):\n",
    "    if i%3==0 or i%5==0:\n",
    "        l.append(i)\n",
    "        sum_l = sum (l)\n",
    "sum_l"
   ]
  },
  {
   "cell_type": "code",
   "execution_count": null,
   "id": "4303ca73",
   "metadata": {},
   "outputs": [],
   "source": [
    "#На вход подаются два списка чисел длины N.\n",
    "#Задача: взять из первого списка все нечётные числа, из второго чётные и объединить их в новом списке с названием joined_list.\n",
    "#Примечание: можно сделать двумя циклами for, можно одним, можно с помощью list comprehensions."
   ]
  },
  {
   "cell_type": "code",
   "execution_count": null,
   "id": "1651bfd1",
   "metadata": {},
   "outputs": [],
   "source": [
    "list1=[0,1,2,3,4,5,6,7,8,9]\n",
    "list2=[11,12,13,14,15,16,17,18,19,20]\n",
    "\n",
    "joined_list_x = [x for x in list1 if x%2!=0]\n",
    "joined_list_y = [y for y in list2 if y%2==0]\n",
    "\n",
    "joined_list = joined_list_x + joined_list_y\n",
    "\n",
    "print (joined_list)"
   ]
  },
  {
   "cell_type": "code",
   "execution_count": null,
   "id": "49dd87c6",
   "metadata": {},
   "outputs": [],
   "source": [
    "#current_hand = [2, 3, 4, 10, 'Q', 5]\n",
    "#В общем и целом, список может содержать следующие значения: 2, 3, 4, 5, 6, 7, 8, 9, 10, 'J', 'Q', 'K', 'A'.\n",
    "#У каждой карты есть свой \"вес\":\n",
    "#2, 3, 4, 5, 6 весят +1\n",
    "#7, 8, 9 весят 0\n",
    "#10, 'J', 'Q', 'K', 'A' весят -1\n",
    "#Задача: имея список карт (например, см. current_hand выше), посчитать их общий \"вес\"."
   ]
  },
  {
   "cell_type": "code",
   "execution_count": null,
   "id": "f2d99fa1",
   "metadata": {},
   "outputs": [],
   "source": [
    "current_hand = [2, 3, 4, 10, 'Q', 5]\n",
    "weight = {2:1,3:1,4:1,5:1,6:1,7:0,8:0,9:0,10:-1,'J':-1, 'Q':-1, 'K':-1, 'A':-1}\n",
    "sum_cards = 0\n",
    "\n",
    "for x in current_hand:\n",
    "    weight_card = weight [x]\n",
    "    sum_cards+=weight_card\n",
    "print (sum_cards)"
   ]
  },
  {
   "cell_type": "code",
   "execution_count": null,
   "id": "7926d7ec",
   "metadata": {},
   "outputs": [],
   "source": [
    "current_hand = [2, 3, 4, 10, 'Q', 5]\n",
    "weight = {2:1,3:1,4:1,5:1,6:1,7:0,8:0,9:0,10:-1,'J':-1, 'Q':-1, 'K':-1, 'A':-1}\n",
    "\n",
    "keys = weight.keys()\n",
    "values = weight.values()\n",
    "values_for_K=weight.get('K')\n",
    "values_for_J=weight['J']\n",
    "print (keys)\n",
    "print (values)\n",
    "print (values_for_K)\n",
    "print (values_for_J)"
   ]
  },
  {
   "cell_type": "code",
   "execution_count": null,
   "id": "289f35f9",
   "metadata": {},
   "outputs": [],
   "source": [
    "#Идёт игра в семи-карточный техасский покер. На столе лежат пять карт и в руке две карты.\n",
    "#Необходимо определить есть ли комбинация, называемая флеш (Flush).\n",
    "#Комбинация флеш определяется наличием пяти карт одной масти (среди всех карт: и тех, что лежат на столе и тех, что в руке).\n",
    "#Первым символом обозначается \"номинал\" карты.\n",
    "#Возможные значения: 2, 3, 4, 5, 6, 7, 8, 9, 10, J, Q, K, A\n",
    "#Второй символ - всегда подчёркивание.\n",
    "#Третий символ - масть. Возможные значения: S (пики), H (черви), D (буби), C (трефы)"
   ]
  },
  {
   "cell_type": "code",
   "execution_count": null,
   "id": "cdb037d4",
   "metadata": {},
   "outputs": [],
   "source": [
    "table_cards = [\"A_S\", \"J_H\", \"7_D\", \"8_D\", \"10_D\"]\n",
    "hand_cards = [\"J_D\", \"3_D\"]\n",
    "cards = table_cards + hand_cards\n",
    "\n",
    "total_mast = [x[-1] for x in cards]\n",
    "\n",
    "is_flush = False\n",
    "\n",
    "for x in 'SHDC':\n",
    "    count_total_mast =  total_mast.count(x)\n",
    "    if count_total_mast >=5:\n",
    "        is_flush = True\n",
    "        print('Flush')\n",
    "        break\n",
    "\n",
    "if not is_flush:\n",
    "    print('No Flush') "
   ]
  },
  {
   "cell_type": "code",
   "execution_count": null,
   "id": "feab68f7",
   "metadata": {},
   "outputs": [],
   "source": [
    "#На вход подаётся число. Определить является ли оно палиндромом.\n",
    "#Подсказки:\n",
    "#number % 10 позволяет взять цифру последнего разряда\n",
    "#number * 10 позволяет добавить разряд к числу\n",
    "#number // 10 позволят отрезать последний разряд от числа\n",
    "#Если число является палиндромом, вывести на консоль 'Palindrome', иначе вывести 'No Palindrome'."
   ]
  },
  {
   "cell_type": "code",
   "execution_count": null,
   "id": "a5fa082c",
   "metadata": {},
   "outputs": [],
   "source": [
    "number = int (input('Введите число = '))\n",
    "n1 = number%10\n",
    "n2= n1*10\n",
    "n3 = number//10\n",
    "print (n1)\n",
    "print (n2)\n",
    "print (n3)"
   ]
  },
  {
   "cell_type": "code",
   "execution_count": null,
   "id": "c1783132",
   "metadata": {},
   "outputs": [],
   "source": [
    "number = int (input('Введите число = '))\n",
    "\n",
    "reversed_number = 0\n",
    "n=number\n",
    "\n",
    "while n>0:\n",
    "    reversed_number = n%10 + (reversed_number*10)\n",
    "    n=n//10\n",
    "    \n",
    "if reversed_number==number:\n",
    "    print ('Palindrome')\n",
    "else:\n",
    "    print ('No Palindrome')"
   ]
  },
  {
   "cell_type": "code",
   "execution_count": null,
   "id": "6a7e995a",
   "metadata": {},
   "outputs": [],
   "source": [
    "#Компьютер загадывает число от 1 до 50 и даёт 6 попыток пользователю, чтобы тот смог угадать загаданное число. \n",
    "#Когда пользователь вводит число,компьютер проверяет угадано ли число и если не угадано, \n",
    "#то сообщает пользователю меньше ли или больше загаданое число. \n",
    "#Если пользователь угадал - то сообщает о том, что число отгадано.\n",
    "#для \"загадывания\" числа используйте модуль random: импортируйте его \n",
    "#и для генерации (загадывания) числа вызовите метод random.randint(1, 50)."
   ]
  },
  {
   "cell_type": "code",
   "execution_count": null,
   "id": "d5b0df56",
   "metadata": {},
   "outputs": [],
   "source": [
    "import random\n",
    "\n",
    "random_num = random.randint(1, 50)\n",
    "num_of_attemps = 0\n",
    "\n",
    "while num_of_attemps<6:\n",
    "    person_num = int (input ('Ваше предполагаемое число = '))\n",
    "    num_of_attemps+=1\n",
    "   \n",
    "    if random_num<person_num:\n",
    "        print('Твое число больше загаданного')\n",
    "    \n",
    "    if random_num>person_num:\n",
    "        print ('Твое число меньше загаданного')\n",
    "    \n",
    "    if random_num == person_num: \n",
    "        print('Число угадано')\n",
    "        break\n",
    "    \n",
    "    if random_num!=person_num and num_of_attemps==6:\n",
    "        print (f'У тебя закончились попытки, загаданное число = {random_num}')\n",
    "        break"
   ]
  },
  {
   "cell_type": "code",
   "execution_count": null,
   "id": "af09979d",
   "metadata": {},
   "outputs": [],
   "source": [
    "#Написать игру в \"камень-ножницы-бумага\" против компьютера.\n",
    "#Запустить игру в бесконечном цикле. Запросить ввод от пользователя (R - камень, S - ножницы, P - бумага). \n",
    "#Сгенерировать случайный выбор компьютера. Вывести выбор компьютера. \n",
    "#Определить победителя, выведя соответствующую информацию. Спросить пользователя - хочет ли он повторить игру. \n",
    "#Если хочет - повторить, не хочет - выйти из цикла."
   ]
  },
  {
   "cell_type": "code",
   "execution_count": null,
   "id": "a12631ca",
   "metadata": {},
   "outputs": [],
   "source": [
    "import random\n",
    "\n",
    "continue_game = True\n",
    "while continue_game:\n",
    "    person_choice = input ('Введите R-камень или S - ножницы или P - бумага:').lower()\n",
    "\n",
    "    if person_choice not in ['r','s','p']:\n",
    "        print ('Ввести можно только r или s или p')\n",
    "        continue\n",
    "\n",
    "    computer_choice = random.choice(['r','s','p'])\n",
    "    winning_combination = [('p','r'), ('r','s'), ('s', 'p')]\n",
    "\n",
    "    if person_choice == computer_choice:\n",
    "        print ('It is a draw')\n",
    "    elif (person_choice, computer_choice) in winning_combination:\n",
    "        print ('Player wins')\n",
    "    else:\n",
    "        print ('Computer wins')\n",
    "    \n",
    "    user_input = ''\n",
    "    \n",
    "    while user_input not in ['y','n']:\n",
    "        user_input = input ('Продолжаем играть дальше ? [y/n]').lower()\n",
    "        if user_input not in ['y','n']:\n",
    "            print ('Ввести можно только y или n')\n",
    "            continue\n",
    "        if user_input =='n':\n",
    "            continue_game = False\n",
    "            print ('Игра закончена')"
   ]
  },
  {
   "cell_type": "code",
   "execution_count": null,
   "id": "38671259",
   "metadata": {},
   "outputs": [],
   "source": [
    "import random\n",
    "\n",
    "len_list_input = int (input('Введите длину листа:'))\n",
    "list = []\n",
    "len_list = 0\n",
    "\n",
    "while len_list<len_list_input:\n",
    "    choice = random.randint(1,100)\n",
    "    list.append(choice)\n",
    "    len_list+=1\n",
    "print (f'{list}')\n",
    "\n",
    "min = list[0]\n",
    "for i in list:\n",
    "    if i < min:\n",
    "        min = i\n",
    "print(min) \n",
    "\n",
    "sum_list = 0\n",
    "for i in list:\n",
    "    sum_list+=i\n",
    "    avg_list = round(sum_list/len_list,2)\n",
    "print (avg_list)"
   ]
  }
 ],
 "metadata": {
  "kernelspec": {
   "display_name": "Python 3 (ipykernel)",
   "language": "python",
   "name": "python3"
  },
  "language_info": {
   "codemirror_mode": {
    "name": "ipython",
    "version": 3
   },
   "file_extension": ".py",
   "mimetype": "text/x-python",
   "name": "python",
   "nbconvert_exporter": "python",
   "pygments_lexer": "ipython3",
   "version": "3.9.13"
  }
 },
 "nbformat": 4,
 "nbformat_minor": 5
}
