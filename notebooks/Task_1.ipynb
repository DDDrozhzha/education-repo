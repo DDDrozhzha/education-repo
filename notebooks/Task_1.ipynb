{
 "cells": [
  {
   "cell_type": "code",
   "execution_count": null,
   "id": "37ff70d2",
   "metadata": {},
   "outputs": [],
   "source": [
    "#Клиент покупает кофе в кафе. За каждые 6 чашек, 1 чашка даётся в качестве бонуса.\n",
    "#Задача: запросить у пользователя кол-во чашек на покупку, вычислить полагающееся кол-во бонусных чашек кофе \n",
    "#и вывести это число на консоль."
   ]
  },
  {
   "cell_type": "code",
   "execution_count": 23,
   "id": "41eea0e2",
   "metadata": {},
   "outputs": [
    {
     "name": "stdout",
     "output_type": "stream",
     "text": [
      "Введите количество чашек кофе = 3\n",
      "Вам полагается бонусных чашек кофе = 0\n"
     ]
    }
   ],
   "source": [
    "num_cups = int (input('Введите количество чашек кофе = '))\n",
    "bonus_cups = int(num_cups/6)\n",
    "print(f'Вам полагается бонусных чашек кофе = {bonus_cups}')"
   ]
  },
  {
   "cell_type": "code",
   "execution_count": null,
   "id": "bd3e97a8",
   "metadata": {},
   "outputs": [],
   "source": [
    "#Запросить у пользователя координаты x и y двух точек на плоскости. Посчитать расстояние между заданными точками \n",
    "#и вывести результат на консоль с точностью до трёх знаков после запятой (плавающей точки)."
   ]
  },
  {
   "cell_type": "code",
   "execution_count": 27,
   "id": "36aa6e70",
   "metadata": {},
   "outputs": [
    {
     "name": "stdout",
     "output_type": "stream",
     "text": [
      "Введите x1 = -2\n",
      "Введите y1 = 1\n",
      "Введите x2 = 4\n",
      "Введите y2 = 3\n",
      "Расстояние между 2 точками = 6.325\n"
     ]
    }
   ],
   "source": [
    "import math\n",
    "x1 = int (input('Введите x1 = '))\n",
    "y1 = int (input('Введите y1 = '))\n",
    "x2 = int (input('Введите x2 = '))\n",
    "y2 = int (input('Введите y2 = '))\n",
    "S = round((math.sqrt((x2-x1)**2 + (y2-y1)**2)),3)\n",
    "print (f'Расстояние между 2 точками = {S}')"
   ]
  },
  {
   "cell_type": "code",
   "execution_count": 20,
   "id": "a3bca622",
   "metadata": {},
   "outputs": [],
   "source": [
    "#На ферме есть куры, коровы и свиньи. У курицы две ноги, у свиньи - четыре, у коровы - четыре. \n",
    "#Запросить у пользователя (фермера) ввод кол-ва кур, свиней и коров, \n",
    "#просуммировать кол-во ног всех животных и вывести результат на консоль."
   ]
  },
  {
   "cell_type": "code",
   "execution_count": 28,
   "id": "8c0bda57",
   "metadata": {},
   "outputs": [
    {
     "name": "stdout",
     "output_type": "stream",
     "text": [
      "Введите количество кур = 2\n",
      "Введите количество свиней = 2\n",
      "Введите количество коров = 2\n",
      "Количество ног всех животных = 20\n"
     ]
    }
   ],
   "source": [
    "x = int (input('Введите количество кур = '))\n",
    "y = int (input('Введите количество свиней = '))\n",
    "z = int (input('Введите количество коров = '))\n",
    "sum = int (x*2+(y+z)*4)\n",
    "print (f'Количество ног всех животных = {sum}')"
   ]
  }
 ],
 "metadata": {
  "kernelspec": {
   "display_name": "Python 3 (ipykernel)",
   "language": "python",
   "name": "python3"
  },
  "language_info": {
   "codemirror_mode": {
    "name": "ipython",
    "version": 3
   },
   "file_extension": ".py",
   "mimetype": "text/x-python",
   "name": "python",
   "nbconvert_exporter": "python",
   "pygments_lexer": "ipython3",
   "version": "3.9.13"
  }
 },
 "nbformat": 4,
 "nbformat_minor": 5
}
