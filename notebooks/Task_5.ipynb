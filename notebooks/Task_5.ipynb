{
 "cells": [
  {
   "cell_type": "code",
   "execution_count": 1,
   "id": "25dce5ef",
   "metadata": {},
   "outputs": [],
   "source": [
    "#Напишите функцию count_vowels, которая принимает строку и возвращает количество гласных в ней."
   ]
  },
  {
   "cell_type": "code",
   "execution_count": 2,
   "id": "04ec01df",
   "metadata": {},
   "outputs": [],
   "source": [
    "def count_vowels(string):\n",
    "    vowels = 'aeiou'  \n",
    "    count = 0\n",
    "    for vowel in string:\n",
    "        if vowel.lower() in vowels:\n",
    "            count+=1\n",
    "    return count"
   ]
  },
  {
   "cell_type": "code",
   "execution_count": 3,
   "id": "1ed990ab",
   "metadata": {},
   "outputs": [
    {
     "name": "stdout",
     "output_type": "stream",
     "text": [
      "1\n",
      "2\n",
      "0\n"
     ]
    }
   ],
   "source": [
    "print (count_vowels('Abcd'))   #-> 1\n",
    "print (count_vowels('aebcdf')) #-> 2\n",
    "print (count_vowels('bcd'))    #-> 0"
   ]
  },
  {
   "cell_type": "code",
   "execution_count": 4,
   "id": "e75ab75d",
   "metadata": {},
   "outputs": [],
   "source": [
    "#Написать функцию is_full_house, которая принимает список карт (руку, 5 карт иначе говоря)\n",
    "#и определяет наличие комбинации Full House на руке. Возвращает True, если определён Full House, \n",
    "#в противном случае - False.\n",
    "#Full House это когда из пяти карт 2 одного достоинства и 3 одного достоинства (но отличающегося от пары).\n",
    "#A - туз, J - валет, Q - дама, K - король, 2-10.\n",
    "#Примеры Full House: (A, A, Q, Q, Q), (10, 10, 10, J, J)"
   ]
  },
  {
   "cell_type": "code",
   "execution_count": 5,
   "id": "cbf358af",
   "metadata": {},
   "outputs": [],
   "source": [
    "def is_full_house(cards_in_hand):\n",
    "    return all(cards_in_hand.count(i) >=2 for i in cards_in_hand)"
   ]
  },
  {
   "cell_type": "code",
   "execution_count": 6,
   "id": "572e3f35",
   "metadata": {},
   "outputs": [
    {
     "name": "stdout",
     "output_type": "stream",
     "text": [
      "True\n",
      "True\n",
      "False\n",
      "False\n"
     ]
    }
   ],
   "source": [
    "print (is_full_house([\"A\", \"A\", \"A\", \"K\", \"K\"]))      #➞ True\n",
    "print (is_full_house([\"3\", \"J\", \"J\", \"3\", \"3\"]))      #➞ True\n",
    "print (is_full_house([\"10\", \"J\", \"10\", \"10\", \"10\"]))  #➞ False\n",
    "print (is_full_house([\"7\", \"J\", \"3\", \"4\", \"2\"]))      #➞ False"
   ]
  },
  {
   "cell_type": "code",
   "execution_count": 7,
   "id": "c04b82b5",
   "metadata": {},
   "outputs": [],
   "source": [
    "def is_full_house(cards_in_hand):\n",
    "    for x in cards_in_hand:\n",
    "        if cards_in_hand.count(x)==3:\n",
    "            for y in cards_in_hand:\n",
    "                if x!=y and cards_in_hand.count(y)==2:\n",
    "                    return True\n",
    "    return False"
   ]
  },
  {
   "cell_type": "code",
   "execution_count": 8,
   "id": "bf7be8c2",
   "metadata": {},
   "outputs": [
    {
     "name": "stdout",
     "output_type": "stream",
     "text": [
      "True\n",
      "True\n",
      "False\n",
      "False\n"
     ]
    }
   ],
   "source": [
    "print (is_full_house([\"A\", \"A\", \"A\", \"K\", \"K\"]))      #➞ True\n",
    "print (is_full_house([\"3\", \"J\", \"J\", \"3\", \"3\"]))      #➞ True\n",
    "print (is_full_house([\"10\", \"J\", \"10\", \"10\", \"10\"]))  #➞ False\n",
    "print (is_full_house([\"7\", \"J\", \"3\", \"4\", \"2\"]))      #➞ False"
   ]
  },
  {
   "cell_type": "code",
   "execution_count": 9,
   "id": "59e162ad",
   "metadata": {},
   "outputs": [],
   "source": [
    "#Разработать функцию sweetest_icecream, которая принимается список инстанций класса IceCream \n",
    "#и возвращает \"уровень сладости\" самого сладкого мороженого.\n",
    "#\"Уровень сладости\" складывается из ароматизатора и количества посыпок. \n",
    "#Сладость одной посыпки = 1, а сладость ароматизаторов считается по таблице:\n",
    "#Plain = 0\n",
    "#Vanilla = 5\n",
    "#ChocolateChip = 5\n",
    "#Strawberry = 10\n",
    "#Chocolate = 10\n",
    "#В функцию будут передаваться два аргумента: ароматизатор (как строка) и кол-во посыпок."
   ]
  },
  {
   "cell_type": "code",
   "execution_count": 10,
   "id": "4ccb4c4e",
   "metadata": {},
   "outputs": [],
   "source": [
    "class IceCream:\n",
    "    def __init__(self, flavor, sprinkles):\n",
    "        self.flavor = flavor\n",
    "        self.sprinkles = sprinkles\n",
    "        \n",
    "    def sweetest_icecream(lst):\n",
    "        flavor_values = {\n",
    "            'Plain':0,\n",
    "            'Vanilla':5,\n",
    "            'ChocolateChip':5,\n",
    "            'Strawberry':10,\n",
    "            'Chocolate':10}\n",
    "        max_sweetness = 0\n",
    "        for ice_cream in lst:\n",
    "            ice_cream_swetness =  flavor_values[ice_cream.flavor] + ice_cream.sprinkles\n",
    "            if ice_cream_swetness > max_sweetness:\n",
    "                max_sweetness = ice_cream_swetness\n",
    "        return max_sweetness"
   ]
  },
  {
   "cell_type": "code",
   "execution_count": 11,
   "id": "2bec06d8",
   "metadata": {},
   "outputs": [],
   "source": [
    "ice1 = IceCream(\"Chocolate\", 13)         # 10 + 13 = 23\n",
    "ice2 = IceCream(\"Vanilla\", 0)           # 5 + 0 = 5\n",
    "ice3 = IceCream(\"Strawberry\", 7)         # 10 + 7 = 17\n",
    "ice4 = IceCream(\"Plain\", 18)             # 0 + 18 = 18\n",
    "ice5 = IceCream(\"ChocolateChip\", 3)      # 5 + 3 = 8"
   ]
  },
  {
   "cell_type": "code",
   "execution_count": 12,
   "id": "4b0185f3",
   "metadata": {},
   "outputs": [
    {
     "data": {
      "text/plain": [
       "23"
      ]
     },
     "execution_count": 12,
     "metadata": {},
     "output_type": "execute_result"
    }
   ],
   "source": [
    "IceCream.sweetest_icecream([ice1, ice2, ice3, ice4, ice5])  #➞ 23"
   ]
  },
  {
   "cell_type": "code",
   "execution_count": 13,
   "id": "f6476e06",
   "metadata": {},
   "outputs": [
    {
     "data": {
      "text/plain": [
       "23"
      ]
     },
     "execution_count": 13,
     "metadata": {},
     "output_type": "execute_result"
    }
   ],
   "source": [
    "IceCream.sweetest_icecream([ice3, ice1])                    #➞ 23"
   ]
  },
  {
   "cell_type": "code",
   "execution_count": 14,
   "id": "4ca8056e",
   "metadata": {},
   "outputs": [
    {
     "data": {
      "text/plain": [
       "17"
      ]
     },
     "execution_count": 14,
     "metadata": {},
     "output_type": "execute_result"
    }
   ],
   "source": [
    "IceCream.sweetest_icecream([ice3, ice5])                    #➞ 17"
   ]
  },
  {
   "cell_type": "code",
   "execution_count": 15,
   "id": "c78facf1",
   "metadata": {},
   "outputs": [],
   "source": [
    "#Написать функцию check_sequence, принимающую список целых чисел и возвращающую 1 \n",
    "#если последовательность строго возрастающая, -1 если строго убывающая, 0 если ни то, ни другое.\n",
    "#Примечание: входящие списки содержат минимум 2 числа."
   ]
  },
  {
   "cell_type": "code",
   "execution_count": 16,
   "id": "ff3d9cb8",
   "metadata": {},
   "outputs": [],
   "source": [
    "def check_sequence (lst):\n",
    "    new_list = list (set(lst))\n",
    "    if sorted(new_list) == lst:\n",
    "        return 1\n",
    "    if sorted(new_list, reverse = True) ==lst:\n",
    "        return -1\n",
    "    else:\n",
    "        return 0"
   ]
  },
  {
   "cell_type": "code",
   "execution_count": 17,
   "id": "62b70d7e",
   "metadata": {},
   "outputs": [
    {
     "name": "stdout",
     "output_type": "stream",
     "text": [
      "1\n",
      "-1\n",
      "0\n",
      "0\n"
     ]
    }
   ],
   "source": [
    "print (check_sequence([1, 2, 3])) #➞ 1\n",
    "print (check_sequence([3, 2, 1])) #➞ -1\n",
    "print (check_sequence([1, 2, 1])) #➞ 0\n",
    "print (check_sequence([1, 1, 2])) #➞ 0 # потому что 1 по индексу 1 не больше 1 по индексу 0"
   ]
  },
  {
   "cell_type": "code",
   "execution_count": 18,
   "id": "505cc5b6",
   "metadata": {},
   "outputs": [],
   "source": [
    "#Написать функцию, которая принимает на вход строку - римское число, а возвращает это число в арабском виде. \n",
    "#Например, если передаём \"XV\" - должна вернуть 15, если передаём \"IV\" - должна вернуть 4.\n",
    "#Вот список римских символов и их отображение на арабские числа:\n",
    "#I - 1\n",
    "#V - 5\n",
    "#X - 10\n",
    "#L - 50\n",
    "#C - 100\n",
    "#D - 500\n",
    "#M - 1000\n",
    "#Правила записи чисел римскими цифрами:\n",
    "#- если большая цифра стоит перед меньшей, то они складываются (принцип сложения),\n",
    "#- если меньшая цифра стоит перед большей, то меньшая вычитается из большей (принцип вычитания)."
   ]
  },
  {
   "cell_type": "code",
   "execution_count": 19,
   "id": "164d07a7",
   "metadata": {},
   "outputs": [],
   "source": [
    "def roman_to_arabic(roman_numeral):\n",
    "    roman_to_arabic_dict = {\n",
    "        'I': 1, \n",
    "        'V': 5, \n",
    "        'X': 10, \n",
    "        'L': 50, \n",
    "        'C': 100, \n",
    "        'D': 500, \n",
    "        'M': 1000}\n",
    "    arabic_numeral = 0\n",
    "    previous_value = 0\n",
    "    for char in roman_numeral:\n",
    "        value = roman_to_arabic_dict[char]\n",
    "        arabic_numeral += value\n",
    "        if value > previous_value:\n",
    "            arabic_numeral -= 2 * previous_value\n",
    "        previous_value = value\n",
    "    return arabic_numeral"
   ]
  },
  {
   "cell_type": "code",
   "execution_count": 20,
   "id": "d83edea9",
   "metadata": {},
   "outputs": [
    {
     "name": "stdout",
     "output_type": "stream",
     "text": [
      "15\n",
      "4\n",
      "29\n"
     ]
    }
   ],
   "source": [
    "print(roman_to_arabic(\"XV\"))  # Вывод: 15\n",
    "print(roman_to_arabic(\"IV\"))  # Вывод: 4\n",
    "print(roman_to_arabic(\"XXIX\"))  # Вывод: 29"
   ]
  }
 ],
 "metadata": {
  "kernelspec": {
   "display_name": "Python 3 (ipykernel)",
   "language": "python",
   "name": "python3"
  },
  "language_info": {
   "codemirror_mode": {
    "name": "ipython",
    "version": 3
   },
   "file_extension": ".py",
   "mimetype": "text/x-python",
   "name": "python",
   "nbconvert_exporter": "python",
   "pygments_lexer": "ipython3",
   "version": "3.9.13"
  }
 },
 "nbformat": 4,
 "nbformat_minor": 5
}
