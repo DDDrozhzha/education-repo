{
 "cells": [
  {
   "cell_type": "code",
   "execution_count": null,
   "id": "3a28ba20",
   "metadata": {},
   "outputs": [],
   "source": [
    "#Два участника p1 и p2 участвуют в дуэли.\n",
    "#Напишите функцию whos_first, которая принимает две строки и возвращает имя игрока, который выстрелил первым.\n",
    "#Если игроки выстрелили одновременно, то вернуть строку \"tie\"."
   ]
  },
  {
   "cell_type": "code",
   "execution_count": null,
   "id": "31e18d54",
   "metadata": {},
   "outputs": [],
   "source": [
    "def whos_first(p1, p2):\n",
    "    p1_B = p1.find('B')\n",
    "    p2_B = p2.find('B')\n",
    "    diff = p1_B-p2_B\n",
    "    \n",
    "    if diff>0:\n",
    "        return 'p2'\n",
    "    if diff<0:\n",
    "        return 'p1'\n",
    "    if diff==0:\n",
    "        return 'tie'\n",
    "    \n",
    "print(whos_first(\"   Bang!        \",\n",
    "                 \"        Bang!   \")) #p1\n",
    "\n",
    "print(whos_first(\"               Bang! \",\n",
    "                 \"             Bang!   \")) #p2\n",
    "\n",
    "print(whos_first(\"     Bang!   \", \n",
    "                 \"     Bang!   \")) #tie"
   ]
  },
  {
   "cell_type": "code",
   "execution_count": null,
   "id": "98b136a0",
   "metadata": {},
   "outputs": [],
   "source": [
    "#Есть три колышка.  Есть диски разного диаметра. Изначально N дисков упорядоченно надеты на первый колышек таким образом, \n",
    "#что диск с наибольшим диаметром находится внизу, а с самым малом наверху. Цель - переместить с первого колышка все диски \n",
    "#на третий колышек, сохранив на нём ту же (изначальную) упорядоченность. Для этого используется второй колышек. \n",
    "#При перекладывании дисков между колышками есть важное правило: нельзя класть диск большего диаметра на диск с меньшим диаметром."
   ]
  },
  {
   "cell_type": "code",
   "execution_count": null,
   "id": "07dba6d7",
   "metadata": {},
   "outputs": [],
   "source": [
    "def solve_hanoi_tower(discs):\n",
    "    return 2**discs-1\n",
    "\n",
    "print (solve_hanoi_tower(3)) #7\n",
    "print (solve_hanoi_tower(5)) #31\n",
    "print (solve_hanoi_tower(0)) #0"
   ]
  },
  {
   "cell_type": "code",
   "execution_count": null,
   "id": "55040278",
   "metadata": {},
   "outputs": [],
   "source": [
    "#Играем в кости. Правила следующие:\n",
    "#1. Кидаем пару костей.\n",
    "#2. Складываем количество выпавших чисел и прибавляем к общему кол-ву очков\n",
    "#3. Повторяем пункты 1 и 2 трижды.\n",
    "#4. Если выпадает дуплет (на обоих костях одно и то же число), то кол-во очков обнуляется и последующие броски не считаются.\n",
    "#Задание:\n",
    "#Напишите функцию calc_dice_scores принимающую список кортежей и, возвращающую общее кол-во очков."
   ]
  },
  {
   "cell_type": "code",
   "execution_count": null,
   "id": "a5513cd6",
   "metadata": {},
   "outputs": [],
   "source": [
    "def calc_dice_scores(lst):\n",
    "    for x,y in lst:\n",
    "        sum_lst_pairs = [sum(i) for i in lst]\n",
    "        sum_lst = sum (sum_lst_pairs)\n",
    "        pairs = any([(x,y) for x,y in lst if x==y])\n",
    "        if pairs == False:\n",
    "            return sum_lst\n",
    "        else:\n",
    "            return 0\n",
    "                        \n",
    "print (calc_dice_scores ([(1, 2), (3, 4), (5, 6)])) #21\n",
    "print (calc_dice_scores ([(1, 1), (5, 6), (6, 4)])) #0\n",
    "print (calc_dice_scores ([(4, 5), (4, 5), (4, 5)])) #27\n",
    "print (calc_dice_scores ([(1, 3), (4, 3), (5, 5)])) #0"
   ]
  },
  {
   "cell_type": "code",
   "execution_count": null,
   "id": "94e03326",
   "metadata": {},
   "outputs": [],
   "source": [
    "#Напишите функцию any_duplicates, которая принимает двумерный массив размера 3х3 (9 элементов).\n",
    "#Двумерный массив заполнен числами от 1 до 9.\n",
    "#Функция должна вернуть False, если в массиве все числа от 1 до 9 встречаются ровно один раз.\n",
    "#В противном случае True."
   ]
  },
  {
   "cell_type": "code",
   "execution_count": null,
   "id": "85f14b82",
   "metadata": {},
   "outputs": [],
   "source": [
    "def any_duplicates(square):\n",
    "    new_list = []\n",
    "    for sublist in square:\n",
    "        for item in sublist:\n",
    "            new_list.append(item)\n",
    "            contain_duplicates = any([x for x in new_list if new_list.count(x) > 1])\n",
    "    return contain_duplicates\n",
    "        \n",
    "print (any_duplicates([[1, 3, 2], [9, 7, 8], [4, 5, 6]])) #➞ False\n",
    "print (any_duplicates([[8, 9, 2], [5, 6, 1], [3, 7, 4]])) #➞ False\n",
    "print (any_duplicates([[1, 1, 3], [6, 5, 4], [8, 7, 9]])) #➞ True # 1 дублируется\n",
    "print (any_duplicates([[1, 2, 3], [3, 4, 5], [9, 8, 7]])) #➞ True # 3 дублируется"
   ]
  },
  {
   "cell_type": "code",
   "execution_count": null,
   "id": "e5d734f7",
   "metadata": {},
   "outputs": [],
   "source": [
    "#Играют два игрока.  Есть 10 палочек. Игроки по очереди берут от одной до трёх палочек. \n",
    "#Играют до тех пор пока не закончатся палочки. Тот кто взял последним - тот проиграл."
   ]
  },
  {
   "cell_type": "code",
   "execution_count": 5,
   "id": "e80eaf34",
   "metadata": {},
   "outputs": [
    {
     "name": "stdout",
     "output_type": "stream",
     "text": [
      "Сколько палочек ты берешь? Осталось: 10\n",
      "Person_1 берет палочек: 2\n",
      "Сколько палочек ты берешь? Осталось: 8\n",
      "Person_2 берет палочек: 2\n",
      "Сколько палочек ты берешь? Осталось: 6\n",
      "Person_1 берет палочек: 3\n",
      "Сколько палочек ты берешь? Осталось: 3\n",
      "Person_2 берет палочек: 2\n",
      "Сколько палочек ты берешь? Осталось: 1\n",
      "Person_1 берет палочек: 1\n",
      "Person 1 проиграл\n"
     ]
    }
   ],
   "source": [
    "num_of_stics = 10    \n",
    "\n",
    "while num_of_stics > 0: # true, true\n",
    "    print (f'Сколько палочек ты берешь? Осталось: {num_of_stics}')\n",
    "    person_1 = int (input('Person_1 берет палочек: ')) # 3, 2, \n",
    "    \n",
    "    if person_1 not in [1,2,3]: # false, false\n",
    "        print ('Можно взять только 1 или 2 или 3 палочки. Попробуй еще раз')\n",
    "        continue\n",
    "   \n",
    "    num_of_stics-=person_1 # 7, 4\n",
    "    \n",
    "    if num_of_stics<=0:\n",
    "        print ('Person 1 проиграл')\n",
    "    else:\n",
    "        person_2 = 0\n",
    "    \n",
    "    while person_2 not in [1,2,3]: # true - false, true, false \n",
    "        print (f'Сколько палочек ты берешь? Осталось: {num_of_stics}')\n",
    "        person_2 = int (input('Person_2 берет палочек: ')) # 1, 3\n",
    "    \n",
    "        if person_2 not in [1,2,3]: # false, false\n",
    "            print ('Можно взять только 1 или 2 или 3 палочки. Попробуй еще раз')\n",
    "            continue\n",
    "   \n",
    "        num_of_stics-=person_2 # 6, 1\n",
    "        \n",
    "        if num_of_stics<=0:\n",
    "            print ('Person 2 проиграл')\n",
    "        else:\n",
    "            continue"
   ]
  },
  {
   "cell_type": "code",
   "execution_count": null,
   "id": "be86845a",
   "metadata": {},
   "outputs": [],
   "source": []
  }
 ],
 "metadata": {
  "kernelspec": {
   "display_name": "Python 3 (ipykernel)",
   "language": "python",
   "name": "python3"
  },
  "language_info": {
   "codemirror_mode": {
    "name": "ipython",
    "version": 3
   },
   "file_extension": ".py",
   "mimetype": "text/x-python",
   "name": "python",
   "nbconvert_exporter": "python",
   "pygments_lexer": "ipython3",
   "version": "3.9.13"
  }
 },
 "nbformat": 4,
 "nbformat_minor": 5
}
