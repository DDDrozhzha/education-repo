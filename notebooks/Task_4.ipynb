{
 "cells": [
  {
   "cell_type": "code",
   "execution_count": 1,
   "id": "f9d43c4c",
   "metadata": {},
   "outputs": [],
   "source": [
    "class Name():\n",
    "    def __init__(self, first_name, last_name):\n",
    "        self.first_name = first_name.capitalize()\n",
    "        self.last_name = last_name.capitalize()\n",
    "        self.full_name = first_name.capitalize() + \" \" + last_name.capitalize()\n",
    "        self.initials = self.first_name[0] + \".\" + self.last_name[0] "
   ]
  },
  {
   "cell_type": "code",
   "execution_count": 2,
   "id": "9601a651",
   "metadata": {},
   "outputs": [
    {
     "name": "stdout",
     "output_type": "stream",
     "text": [
      "John\n",
      "Smith\n",
      "John Smith\n",
      "J.S\n"
     ]
    }
   ],
   "source": [
    "a1 = Name('john', 'SMITH')\n",
    "print (a1.first_name)\n",
    "print (a1.last_name)\n",
    "print (a1.full_name)\n",
    "print (a1.initials)"
   ]
  },
  {
   "cell_type": "code",
   "execution_count": 3,
   "id": "cae1564f",
   "metadata": {},
   "outputs": [],
   "source": [
    "class Calculator ():\n",
    "    def add (self, a, b):\n",
    "        return a+b\n",
    "    \n",
    "    def subtract (self, a, b):\n",
    "        return a-b\n",
    "    \n",
    "    def multiply (self, a, b):\n",
    "        return a*b\n",
    "    \n",
    "    def divide (self, a, b):\n",
    "        return a/b"
   ]
  },
  {
   "cell_type": "code",
   "execution_count": 4,
   "id": "7a4351f7",
   "metadata": {},
   "outputs": [
    {
     "name": "stdout",
     "output_type": "stream",
     "text": [
      "15\n",
      "5\n",
      "50\n",
      "2.0\n"
     ]
    }
   ],
   "source": [
    "calculator = Calculator()  \n",
    "print (calculator.add(10, 5))\n",
    "print (calculator.subtract(10, 5))\n",
    "print (calculator.multiply(10, 5)) \n",
    "print (calculator.divide(10, 5))"
   ]
  },
  {
   "cell_type": "code",
   "execution_count": 5,
   "id": "a14adce2",
   "metadata": {},
   "outputs": [],
   "source": [
    "class Employee ():\n",
    "    def __init__(self, first_name, last_name, salary):\n",
    "        self.first_name = first_name\n",
    "        self.last_name = last_name\n",
    "        self.salary = salary\n",
    "    \n",
    "    @classmethod\n",
    "    def from_string (cls, str_to_parse):\n",
    "        first_name, last_name, salary = str_to_parse.split (\"-\")\n",
    "        return cls(first_name, last_name, int(salary))"
   ]
  },
  {
   "cell_type": "code",
   "execution_count": 6,
   "id": "5000c6f7",
   "metadata": {},
   "outputs": [
    {
     "name": "stdout",
     "output_type": "stream",
     "text": [
      "Mary\n",
      "Sue\n",
      "60000\n",
      "55000\n",
      "John\n"
     ]
    }
   ],
   "source": [
    "emp1 = Employee('Mary', 'Sue', 60000)\n",
    "print (emp1.first_name)\n",
    "print (emp1.last_name)\n",
    "print (emp1.salary)\n",
    "emp2 = Employee.from_string('John-Smith-55000')\n",
    "print (emp2.salary)\n",
    "print (emp2.first_name)"
   ]
  },
  {
   "cell_type": "code",
   "execution_count": 9,
   "id": "c75a9a4a",
   "metadata": {},
   "outputs": [],
   "source": [
    "import math \n",
    "\n",
    "class Circle():\n",
    "    \n",
    "    def __init__ (self, r=0):\n",
    "        self.r = r\n",
    "    \n",
    "    def get_area (self):\n",
    "        return math.pi*(self.r**2)\n",
    "    \n",
    "    def get_perimeter(self):\n",
    "        return 2*math.pi*self.r"
   ]
  },
  {
   "cell_type": "code",
   "execution_count": 12,
   "id": "b8daec92",
   "metadata": {},
   "outputs": [
    {
     "data": {
      "text/plain": [
       "314.1592653589793"
      ]
     },
     "execution_count": 12,
     "metadata": {},
     "output_type": "execute_result"
    }
   ],
   "source": [
    "circle = Circle(10)\n",
    "circle.get_area()"
   ]
  },
  {
   "cell_type": "code",
   "execution_count": 13,
   "id": "5e92c381",
   "metadata": {},
   "outputs": [
    {
     "data": {
      "text/plain": [
       "62.83185307179586"
      ]
     },
     "execution_count": 13,
     "metadata": {},
     "output_type": "execute_result"
    }
   ],
   "source": [
    "circle.get_perimeter()"
   ]
  },
  {
   "cell_type": "code",
   "execution_count": null,
   "id": "d30ccd40",
   "metadata": {},
   "outputs": [],
   "source": [
    "#Создайте класс Pizza, который принимает список ингредиентов.\n",
    "#Класс поддерживает:\n",
    "#атрибут order_number, который возвращает текущий номер заказа\n",
    "#(подсказка: используйте статический атрибут в качестве сквозного счётчика)\n",
    "#атрибут ingredients, который возвращает список, принятый в конструкторе\n",
    "#функции (garden_feast, hawaiian, meat_festival) создания видов пицц, ингредиенты которых заранее известны (см. таблицу)\n",
    "\n",
    "#Name            Ingredients\n",
    "#hawaiian            - ham, pineapple\n",
    "#meat_festival    - beef, meatball, bacon\n",
    "#garden_feast    - spinach, olives, mushroom"
   ]
  },
  {
   "cell_type": "code",
   "execution_count": 1,
   "id": "d811f1b2",
   "metadata": {},
   "outputs": [],
   "source": [
    "class Pizza():\n",
    "    order = 0\n",
    "    \n",
    "    def __init__(self, ingredients):\n",
    "        self.ingredients = ingredients\n",
    "        Pizza.order+=1\n",
    "        self.order_number = Pizza.order\n",
    "        \n",
    "    @classmethod\n",
    "    def garden_feast (cls):\n",
    "        return cls (['spinach', 'olives', 'mushroom'])\n",
    "    \n",
    "    @classmethod\n",
    "    def hawaiian (cls):\n",
    "        return cls (['ham', 'pineapple'])\n",
    "    \n",
    "    @classmethod\n",
    "    def meat_festival (cls):\n",
    "        return cls (['beef', 'meatball', 'bacon'])"
   ]
  },
  {
   "cell_type": "code",
   "execution_count": 2,
   "id": "f9737235",
   "metadata": {},
   "outputs": [
    {
     "name": "stdout",
     "output_type": "stream",
     "text": [
      "['bacon', 'parmesan', 'ham']\n",
      "['spinach', 'olives', 'mushroom']\n",
      "1\n",
      "2\n",
      "3\n"
     ]
    }
   ],
   "source": [
    "p1 = Pizza(['bacon', 'parmesan', 'ham'])    # order 1\n",
    "p2 = Pizza.garden_feast()                  # order 2\n",
    "p3 = Pizza.hawaiian()\n",
    "print (p1.ingredients) #➞ ['bacon', 'parmesan', 'ham']\n",
    "print (p2.ingredients) #➞ ['spinach', 'olives', 'mushroom']\n",
    "print (p1.order_number) #➞ 1\n",
    "print (p2.order_number) #➞ 2\n",
    "print (p3.order_number) #➞ 3"
   ]
  },
  {
   "cell_type": "code",
   "execution_count": null,
   "id": "a15256e7",
   "metadata": {},
   "outputs": [],
   "source": [
    "#Создать класс Beverage, который при конструировании принимает список ингредиентов\n",
    "#поддерживает атрибут ingredients, возвращающий список ингредиентов, переданных при конструировании инстанции класса\n",
    "#поддерживает функцию get_cost, вычисляющую итоговую стоимость всех ингредиентов напитка (получается себестоимость напитка)\n",
    "#поддерживает функцию get_price, вычисляющую цену напитка посредством умножения себестоимости на 2.5\n",
    "#поддерживает функцию get_name, которая возвращает строку, перечисляющую ингредиенты, сортируя их в алфавитном порядке.\n",
    "#Если ингредиентов больше одного, то в конце добавляет слово 'Fusion', иначе добавляет слово 'Smoothie'. \n",
    "#Эта функция также должна заменять 'berries' на 'berry'.\n",
    "\n",
    "#Ингредиенты и их себестоимость\n",
    "#Strawberries $1.50\n",
    "#Banana $0.50\n",
    "#Mango $2.50\n",
    "#Blueberries $1.00\n",
    "#Raspberries $1.00\n",
    "#Apple $1.75\n",
    "#Pineapple $3.50"
   ]
  },
  {
   "cell_type": "code",
   "execution_count": 34,
   "id": "4206ab8f",
   "metadata": {},
   "outputs": [],
   "source": [
    "prices = {\"Strawberries\" : 1.5, \"Banana\" : 0.5, \"Mango\" : 2.5,\n",
    "          \"Blueberries\" : 1, \"Raspberries\" : 1, \"Apple\" : 1.75, \"Pineapple\" : 3.5}\n",
    "\n",
    "class Beverage():\n",
    "    \n",
    "    def __init__(self, ingredients):\n",
    "        self.ingredients = ingredients\n",
    "        self.cost = sum([prices[fruit] for fruit in self.ingredients])\n",
    "        self.price = self.cost * 2.5\n",
    "    \n",
    "    def get_cost (self):\n",
    "        return f'${self.cost:.2f}'\n",
    "        \n",
    "    def get_price (self):\n",
    "        return f'${self.price:.2f}'\n",
    "    \n",
    "    def get_name(self):\n",
    "        lst = sorted ([i.replace('ies','y') for i in self.ingredients])\n",
    "        return f'{\" \".join(lst)} {\"Fusion\" if len(lst) > 1 else \"Smoothie\"}'"
   ]
  },
  {
   "cell_type": "code",
   "execution_count": 35,
   "id": "71e02755",
   "metadata": {},
   "outputs": [
    {
     "name": "stdout",
     "output_type": "stream",
     "text": [
      "['Banana']\n",
      "$0.50\n",
      "$1.25\n",
      "Banana Smoothie\n",
      "['Raspberries', 'Strawberries', 'Blueberries']\n",
      "$3.50\n",
      "$8.75\n",
      "Blueberry Raspberry Strawberry Fusion\n"
     ]
    }
   ],
   "source": [
    "s1 = Beverage([\"Banana\"])\n",
    " \n",
    "print (s1.ingredients) #➞ [\"Banana\"]\n",
    "print (s1.get_cost())  #➞ \"$0.50\"\n",
    "print (s1.get_price()) #➞ \"$1.25\"\n",
    "print (s1.get_name())  #➞ \"Banana Smoothie\"\n",
    "s2 = Beverage([\"Raspberries\", \"Strawberries\", \"Blueberries\"])\n",
    "print (s2.ingredients) #➞ [\"Raspberries\", \"Strawberries\", \"Blueberries\"]\n",
    "print (s2.get_cost())  #➞ \"$3.50\"\n",
    "print (s2.get_price()) #➞ \"$8.75\"\n",
    "print (s2.get_name())  #➞ \"Blueberry Raspberry Strawberry Fusion\""
   ]
  },
  {
   "cell_type": "code",
   "execution_count": null,
   "id": "37a59db8",
   "metadata": {},
   "outputs": [],
   "source": [
    "#Реализовать игру в крестики-нолики размером 3х3"
   ]
  },
  {
   "cell_type": "code",
   "execution_count": null,
   "id": "b9b47060",
   "metadata": {},
   "outputs": [],
   "source": [
    "board = list(range(0,9))\n",
    "\n",
    "def draw_board(board):\n",
    "    for i in range(3):\n",
    "        print(\"|\", board[0+i*3], \"|\", board[1+i*3], \"|\", board[2+i*3], \"|\")\n",
    "\n",
    "winning_combinations = [(0,1,2), (3,4,5), (6,7,8), (0,3,6), (1,4,7), (2,5,8), (0,4,8), (2,4,6)]\n",
    "\n",
    "def get_winner(board, combinations):\n",
    "    for (x,y,z) in combinations:\n",
    "        if board[x]==board[y] and board[y] == board[z] and (board [x]=='X' or board [x]=='O'):\n",
    "            return board [x]\n",
    "        return ''\n",
    "\n",
    "def play_game(board):\n",
    "    current_sign = 'X'   \n",
    "    while(get_winner(board, winning_combinations)==''):\n",
    "        index = int (input(f'Where do you want to draw {current_sign}?'))\n",
    "        board[index] = current_sign\n",
    "        \n",
    "        draw_board (board)\n",
    "    \n",
    "        winner_sign = get_winner(board, winning_combinations)\n",
    "        if winner_sign!= '':\n",
    "            print (f'We have a winner: {winner_sign}')\n",
    "    \n",
    "        current_sign = 'X' if current_sign == 'O' else 'O'"
   ]
  },
  {
   "cell_type": "code",
   "execution_count": null,
   "id": "4c0533bd",
   "metadata": {},
   "outputs": [],
   "source": [
    "play_game(board)"
   ]
  },
  {
   "cell_type": "code",
   "execution_count": 1,
   "id": "1edddd30",
   "metadata": {},
   "outputs": [
    {
     "name": "stdout",
     "output_type": "stream",
     "text": [
      "| 1 | 2 | 3 |\n",
      "| 4 | 5 | 6 |\n",
      "| 7 | 8 | 9 |\n"
     ]
    }
   ],
   "source": [
    "board = range(1,10)\n",
    "\n",
    "def draw_board(board):\n",
    "    for i in range(3):\n",
    "        print(\"|\", board[0+i*3], \"|\", board[1+i*3], \"|\", board[2+i*3], \"|\")\n",
    "\n",
    "draw_board (board)"
   ]
  }
 ],
 "metadata": {
  "kernelspec": {
   "display_name": "Python 3 (ipykernel)",
   "language": "python",
   "name": "python3"
  },
  "language_info": {
   "codemirror_mode": {
    "name": "ipython",
    "version": 3
   },
   "file_extension": ".py",
   "mimetype": "text/x-python",
   "name": "python",
   "nbconvert_exporter": "python",
   "pygments_lexer": "ipython3",
   "version": "3.9.13"
  }
 },
 "nbformat": 4,
 "nbformat_minor": 5
}
